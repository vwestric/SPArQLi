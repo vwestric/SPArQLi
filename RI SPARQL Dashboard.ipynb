{
 "cells": [
  {
   "cell_type": "markdown",
   "metadata": {},
   "source": [
    "# RI SPARQL Dashboard\n",
    "## Contents\n",
    "### Introduction\n",
    "### Libraries and Functions\n",
    "### Graph\n",
    "### Queries\n",
    "* #### [Count Properties](#countProperties)\n",
    "* #### [Recurring Entities](#recurringEntities)\n",
    "* #### [Occupations and Positions Held by Families](#occupationsFamilies)\n",
    "* #### [Family Places Map](#familyPlacesMap)\n",
    "* #### [Issuance Places Map](#issuancePlacesMap)\n",
    "* #### [Occupations Places Map](#occupationsPlacesMap)\n"
   ]
  },
  {
   "cell_type": "markdown",
   "metadata": {},
   "source": [
    "## Libraries and Functions"
   ]
  },
  {
   "cell_type": "code",
   "execution_count": null,
   "metadata": {},
   "outputs": [],
   "source": [
    "#Install Additional Libraries\n",
    "import sys\n",
    "#!{sys.executable} -m pip install rdflib\n",
    "#!{sys.executable} -m pip install folium\n",
    "#!{sys.executable} -m pip install pandas\n",
    "#!{sys.executable} -m pip install numpy"
   ]
  },
  {
   "cell_type": "code",
   "execution_count": null,
   "metadata": {},
   "outputs": [],
   "source": [
    "#Libraries\n",
    "import rdflib\n",
    "import folium\n",
    "from importlib import reload\n",
    "#SPARQL Functions\n",
    "import sparqlFunctions as sparql"
   ]
  },
  {
   "cell_type": "code",
   "execution_count": null,
   "metadata": {},
   "outputs": [],
   "source": [
    "#Reload SPARQL Functions\n",
    "reload(sparql)"
   ]
  },
  {
   "cell_type": "markdown",
   "metadata": {},
   "source": [
    "## Graph"
   ]
  },
  {
   "cell_type": "code",
   "execution_count": null,
   "metadata": {},
   "outputs": [],
   "source": [
    "#Load Graph\n",
    "#Graph Path\n",
    "graphPath = \"rdf.turtle\"\n",
    "#Init Graph\n",
    "g = rdflib.Graph()\n",
    "#Parse Graph Data\n",
    "g.parse(graphPath, format=\"turtle\")"
   ]
  },
  {
   "cell_type": "markdown",
   "metadata": {},
   "source": [
    "## Queries\n",
    "<a id=\"countProperties\"></a>\n",
    "### Count Properties"
   ]
  },
  {
   "cell_type": "code",
   "execution_count": null,
   "metadata": {},
   "outputs": [],
   "source": [
    "#Count Properties\n",
    "##Instance of\n",
    "instanceOf = [row for row in sparql.count(g, \"P31\") if row[1] > 10]\n",
    "##Occupations\n",
    "occupations = [row for row in sparql.count(g, \"P106\") if row[1] > 10]\n",
    "##Families\n",
    "families = [row for row in sparql.count(g, \"P53\") if row[1] > 10]\n",
    "\n",
    "print(\"Instance Of\")\n",
    "for row in instanceOf:\n",
    "    print(\" |\".join([str(element) for element in row]))\n",
    "    \n",
    "print(\"Occupations\")\n",
    "for row in occupations:\n",
    "    print(\" |\".join([str(element) for element in row]))\n",
    "    \n",
    "print(\"Families\")\n",
    "for row in families:\n",
    "    print(\" |\".join([str(element) for element in row]))"
   ]
  },
  {
   "cell_type": "markdown",
   "metadata": {},
   "source": [
    "<a id=\"recurringEntities\"></a>\n",
    "### Recurring Entities"
   ]
  },
  {
   "cell_type": "code",
   "execution_count": null,
   "metadata": {},
   "outputs": [],
   "source": [
    "#Recurring Entities\n",
    "recurringEntities = [[row[0].split(\"/\")[-1]] for row in sparql.recurringEntities(g) if row[1] >= 3]\n",
    "\n",
    "for row in recurringEntities:\n",
    "    row.extend([entry[0].split(\"/\")[-1] for entry in sparql.associatedEntries(g, row[0])])\n",
    "    \n",
    "with open(\"recurringEntities.csv\", \"w\", encoding=\"utf-8\") as file:\n",
    "    for row in recurringEntities:\n",
    "        file.write(\"|\".join(row) + \"\\n\")"
   ]
  },
  {
   "cell_type": "markdown",
   "metadata": {},
   "source": [
    "<a id=\"occupationsFamilies\"></a>\n",
    "### Occupations and Positions Held by Families"
   ]
  },
  {
   "cell_type": "code",
   "execution_count": null,
   "metadata": {},
   "outputs": [],
   "source": [
    "#Occupations by Family\n",
    "#Habsburg\n",
    "occupationsHabsburg = [\n",
    "                        row for row \n",
    "                        in sparql.occupationByFamily(g, \"Q65968\")\n",
    "                        if row[1] >= 5\n",
    "                      ]\n",
    "#Wittelsbach\n",
    "occupationsWittelsbach = [\n",
    "                        row for row \n",
    "                        in sparql.occupationByFamily(g, \"Q131621\")\n",
    "                        if row[1] >= 5\n",
    "                      ]\n",
    "#Hohenzollern\n",
    "occupationsHohenzollern = [\n",
    "                        row for row \n",
    "                        in sparql.occupationByFamily(g, \"Q83969\")\n",
    "                        if row[1] >= 5\n",
    "                      ]\n",
    "\n",
    "print(\"Habsburg\")\n",
    "for row in occupationsHabsburg:\n",
    "    print(\" |\".join([str(element) for element in row]))\n",
    "    \n",
    "print(\"Wittelsbach\")\n",
    "for row in occupationsWittelsbach:\n",
    "    print(\" |\".join([str(element) for element in row]))\n",
    "\n",
    "print(\"Hohenzollern\")\n",
    "for row in occupationsHohenzollern:\n",
    "    print(\" |\".join([str(element) for element in row]))"
   ]
  },
  {
   "cell_type": "markdown",
   "metadata": {},
   "source": [
    "<a id=\"familyPlacesMap\"></a>\n",
    "### Family Places Map\n",
    "Map of places where family members of the respective family are mentioned or have received charters"
   ]
  },
  {
   "cell_type": "code",
   "execution_count": null,
   "metadata": {},
   "outputs": [],
   "source": [
    "#Family Places Map\n",
    "m = folium.Map(location=[49.455556, 11.078611], zoom_start=5)\n",
    "\n",
    "Habsburg = sparql.familyPlaces(g, \"Q65968\")\n",
    "Wittelsbach = sparql.familyPlaces(g, \"Q131621\")\n",
    "Hohenzollern = sparql.familyPlaces(g, \"Q83969\")\n",
    "\n",
    "\n",
    "\n",
    "#Habsburg\n",
    "for row in Habsburg:\n",
    "    folium.CircleMarker(\n",
    "    radius=row[3]/10,\n",
    "    location=[row[2], row[1]],\n",
    "    popup=row[0],\n",
    "    color='crimson',\n",
    "    fill=True,\n",
    "    ).add_to(m)\n",
    "\n",
    "#Wittelsbach\n",
    "for row in Wittelsbach:\n",
    "    folium.CircleMarker(\n",
    "    radius=row[3]/10,\n",
    "    location=[row[2], row[1]],\n",
    "    popup=row[0],\n",
    "    color='#0099cc',\n",
    "    fill=True,\n",
    "    ).add_to(m)\n",
    "\n",
    "#Hohenzollern\n",
    "for row in Hohenzollern:\n",
    "    folium.CircleMarker(\n",
    "    radius=row[3]/10,\n",
    "    location=[row[2], row[1]],\n",
    "    popup=row[0],\n",
    "    color='green',\n",
    "    fill=True,\n",
    "    ).add_to(m)\n",
    "    \n",
    "m"
   ]
  },
  {
   "cell_type": "markdown",
   "metadata": {},
   "source": [
    "<a id=\"issuancePlacesMap\"></a>\n",
    "### Issuance Places Map\n",
    "Map of issuance places by department"
   ]
  },
  {
   "cell_type": "code",
   "execution_count": null,
   "metadata": {
    "scrolled": true
   },
   "outputs": [],
   "source": [
    "#Issuance Places Map\n",
    "m = folium.Map(location=[49.455556, 11.078611], zoom_start=5)\n",
    "\n",
    "F3 = sparql.issuancePlaces(g, \"Q97879676\")\n",
    "LDB = sparql.issuancePlaces(g, \"Q97883245\")\n",
    "H7 = sparql.issuancePlaces(g, \"Q98414644\")\n",
    "\n",
    "F3_SUM = sum([row[3] for row in F3])\n",
    "LDB_SUM = sum([row[3] for row in LDB])\n",
    "H7_SUM = sum([row[3] for row in H7])\n",
    "\n",
    "#F3\n",
    "for row in F3:\n",
    "    folium.CircleMarker(\n",
    "    radius=(row[3]/F3_SUM)*100,\n",
    "    location=[row[2], row[1]],\n",
    "    popup=row[0],\n",
    "    color='crimson',\n",
    "    fill=True,\n",
    "    ).add_to(m)\n",
    "\n",
    "#LDB\n",
    "for row in LDB:\n",
    "    folium.CircleMarker(\n",
    "    radius=(row[3]/LDB_SUM)*100,\n",
    "    location=[row[2], row[1]],\n",
    "    popup=row[0],\n",
    "    color='#0099cc',\n",
    "    fill=True,\n",
    "    ).add_to(m)\n",
    "\n",
    "#H7\n",
    "for row in H7:\n",
    "    folium.CircleMarker(\n",
    "    radius=(row[3]/H7_SUM)*100,\n",
    "    location=[row[2], row[1]],\n",
    "    popup=row[0],\n",
    "    color='green',\n",
    "    fill=True,\n",
    "    ).add_to(m)\n",
    "    \n",
    "m"
   ]
  },
  {
   "cell_type": "markdown",
   "metadata": {},
   "source": [
    "<a id=\"occupationsPlacesMap\"></a>\n",
    "### Occupations Places Map\n",
    "Map of places where people with the specified occupation received charters"
   ]
  },
  {
   "cell_type": "code",
   "execution_count": null,
   "metadata": {},
   "outputs": [],
   "source": [
    "#aristocrats = sparql.occupationByIssuancePlaces(g, \"Q2478141\")\n",
    "#priests = sparql.occupationByIssuancePlaces(g, \"Q250867\")\n",
    "#politicians = sparql.occupationByIssuancePlaces(g, \"Q82955\")"
   ]
  },
  {
   "cell_type": "code",
   "execution_count": null,
   "metadata": {},
   "outputs": [],
   "source": [
    "#Occupations Places Map\n",
    "#Loading Premade Data in because Query takes a long time\n",
    "with open(\"aristocratsIssuancePlaces.csv\", \"r\", encoding=\"utf-8\") as fileAristocrats, \\\n",
    "     open(\"priestsIssuancePlaces.csv\", \"r\", encoding=\"utf-8\") as filePriests, \\\n",
    "     open(\"politiciansIssuancePlaces.csv\", \"r\", encoding=\"utf-8\") as filePoliticians:\n",
    "    \n",
    "    aristocrats = [line.strip(\"\\n\").split(\"|\") for line in fileAristocrats]\n",
    "    priests = [line.strip(\"\\n\").split(\"|\") for line in filePriests]\n",
    "    politicians = [line.strip(\"\\n\").split(\"|\") for line in filePoliticians]\n",
    "\n",
    "#Summarize Count\n",
    "AR_SUM = sum([int(row[3]) for row in aristocrats[1:]])\n",
    "PR_SUM = sum([int(row[3]) for row in priests[1:]])\n",
    "PO_SUM = sum([int(row[3]) for row in politicians[1:]])\n",
    "\n",
    "#Map\n",
    "m = folium.Map(location=[49.455556, 11.078611], zoom_start=5)\n",
    "\n",
    "#Aristocrats\n",
    "for row in aristocrats[1:]:\n",
    "    folium.CircleMarker(\n",
    "    radius=(int(row[3])/AR_SUM)*100,\n",
    "    location=[float(row[2]), float(row[1])],\n",
    "    popup=row[0],\n",
    "    color='crimson',\n",
    "    fill=True,\n",
    "    ).add_to(m)\n",
    "\n",
    "#Priests\n",
    "for row in priests[1:]:\n",
    "    folium.CircleMarker(\n",
    "    radius=(int(row[3])/PR_SUM)*100,\n",
    "    location=[float(row[2]), float(row[1])],\n",
    "    popup=row[0],\n",
    "    color='#0099cc',\n",
    "    fill=True,\n",
    "    ).add_to(m)\n",
    "\n",
    "#Politicians\n",
    "for row in politicians[1:]:\n",
    "    folium.CircleMarker(\n",
    "    radius=(int(row[3])/PO_SUM)*100,\n",
    "    location=[float(row[2]), float(row[1])],\n",
    "    popup=row[0],\n",
    "    color='green',\n",
    "    fill=True,\n",
    "    ).add_to(m)\n",
    "    \n",
    "m"
   ]
  },
  {
   "cell_type": "code",
   "execution_count": null,
   "metadata": {},
   "outputs": [],
   "source": []
  }
 ],
 "metadata": {
  "kernelspec": {
   "display_name": "Python 3",
   "language": "python",
   "name": "python3"
  },
  "language_info": {
   "codemirror_mode": {
    "name": "ipython",
    "version": 3
   },
   "file_extension": ".py",
   "mimetype": "text/x-python",
   "name": "python",
   "nbconvert_exporter": "python",
   "pygments_lexer": "ipython3",
   "version": "3.6.6"
  }
 },
 "nbformat": 4,
 "nbformat_minor": 2
}
